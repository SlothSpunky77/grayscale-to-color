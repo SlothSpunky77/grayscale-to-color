{
  "nbformat": 4,
  "nbformat_minor": 0,
  "metadata": {
    "colab": {
      "provenance": [],
      "authorship_tag": "ABX9TyMP3R8MEr1CP6dO+KWP485/",
      "include_colab_link": true
    },
    "kernelspec": {
      "name": "python3",
      "display_name": "Python 3"
    },
    "language_info": {
      "name": "python"
    }
  },
  "cells": [
    {
      "cell_type": "markdown",
      "metadata": {
        "id": "view-in-github",
        "colab_type": "text"
      },
      "source": [
        "<a href=\"https://colab.research.google.com/github/SlothSpunky77/grayscale-to-color/blob/main/attempt1.ipynb\" target=\"_parent\"><img src=\"https://colab.research.google.com/assets/colab-badge.svg\" alt=\"Open In Colab\"/></a>"
      ]
    },
    {
      "cell_type": "code",
      "execution_count": 2,
      "metadata": {
        "id": "JmIk1vrtTUfs"
      },
      "outputs": [],
      "source": [
        "#Colorization of a grayscale image guided by text\n",
        "#Example:\n",
        "#Input grayscale image description: a man sitting on a concrete block above the sand facing away from the ocean, with the ocean in the background\n",
        "#Guided text: man wearing blue jeans and red shirt, orange skies, evening\n"
      ]
    }
  ]
}